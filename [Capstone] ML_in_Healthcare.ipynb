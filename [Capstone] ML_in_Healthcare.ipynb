{
 "cells": [
  {
   "cell_type": "markdown",
   "id": "MBIPlgwErdKj",
   "metadata": {
    "id": "MBIPlgwErdKj"
   },
   "source": [
    "# [Capstone Project] ML for Healthcare\n",
    "\n",
    "\n",
    "*Geoffrey Cloud*"
   ]
  },
  {
   "cell_type": "markdown",
   "id": "a96DB6WusScU",
   "metadata": {
    "id": "a96DB6WusScU"
   },
   "source": [
    "## Introduction\n",
    "\n",
    "You are supposed to program in Python to analyze a real-world dataset.\n",
    "\n",
    "### Rule to complete the assignment\n",
    "The basic rule is to write down your code after Each **TODO** line. There's **no limitation** on what libraries you use, how many lines code you write, how many cells you use in JupyterNotebook, etc.\n",
    "\n",
    "### Grading\n",
    "The grade will be given based on the performance of your model on a testing dataset. Note, this **testing dataset** is private to the instructor and TA. As a student, you don't have access to the test dataset. What you can do is to refine or polish your model based on the **training** and **validation** set. Submit the best model you have."
   ]
  },
  {
   "cell_type": "markdown",
   "id": "fd8c2c3b",
   "metadata": {
    "id": "fd8c2c3b"
   },
   "source": [
    "# Overview\n",
    "We will delve into the practical application of Artificial Intelligence within the field of healthcare.\n",
    "This lab will include:\n",
    "- Dataset introduction\n",
    "- Preprocessing\n",
    "- Problem definition\n",
    "- Feature engineering\n",
    "- Model selection\n",
    "- Training the model\n",
    "- Validation and hyperparameter tuning\n",
    "- Evaluation metrics\n"
   ]
  },
  {
   "cell_type": "markdown",
   "id": "a6e0d170",
   "metadata": {
    "id": "a6e0d170"
   },
   "source": [
    "## Dataset introduction\n",
    "For this lab, we will take one ECG dataset as example from the UCR Time Series Classification Archive.\n",
    "\n",
    "### **UCR Time Series Classification Archive**  \n",
    "Maintained by the University of California, Riverside (UCR), it is a valuable resource and repository for time series data and related classification problems. This archive is a comprehensive collection of various time series datasets designed specifically for benchmarking and evaluating time series classification algorithms and methods.\n",
    "FYI, the whole UCR raw data download link: https://www.cs.ucr.edu/%7Eeamonn/time_series_data_2018/\n",
    "\n",
    "But in this lab, you don't need it. **Please download the ECG5000 dataset on Canvas under the module of [Lab] Applied AI in Healthcare.**"
   ]
  },
  {
   "cell_type": "markdown",
   "id": "1749d9ac",
   "metadata": {
    "id": "1749d9ac"
   },
   "source": [
    "### **ECG5000**  \n",
    "> The original data set for *ECG5000* is a 20-hour long ECG downloaded from Physionet_ATM [1]. The database is BIDMC Congestive Heart Failure Database(chfdb) and the record is chf07. It was originally published by Goldberger et al. [2]. The data were pre-processed in two steps, first extracting each heartbeat and then making each heartbeat equal length using interpolation. These data were originally used by Chen et al. [3]. After that, 5000 heartbeats were randomly selected to make the current data set. Data were from a patient who has severe congestive heart failure. The class values were obtained by automated annotation.\n",
    "\n",
    ">[1] https://physionet.org/cgi-bin/atm/ATM  \n",
    ">[2] Goldberger, Ary L., et al. \"PhysioBank, PhysioToolkit, and PhysioNet: components of a new research resource for complex physiologic signals.\" Circulation 101.23 (2000): e215-e220.  \n",
    ">[3] Chen, Yanping, et al. \"A general framework for never-ending learning from time series streams.\" Data Mining and Knowledge Discovery 29.6 (2015): 1622-1664.  \n",
    ">[4] http://www.timeseriesclassification.com/description.php?Dataset=ECG5000"
   ]
  },
  {
   "cell_type": "markdown",
   "id": "c84952b8",
   "metadata": {
    "id": "c84952b8"
   },
   "source": [
    "|                 Class name                 | Abbreviation |\n",
    "|:------------------------------------------:|:------------:|\n",
    "|                   Normal                   |       N      |            \n",
    "|  R-on-T premature ventricular contraction  |       r      |             \n",
    "| Supraventricular premature or ectopic beat |       S      |           \n",
    "|      Premature ventricular contraction     |       V      |            \n",
    "|             Unclassifiable beat            |       Q      |      "
   ]
  },
  {
   "cell_type": "markdown",
   "id": "ina0xQnkr9Um",
   "metadata": {
    "id": "ina0xQnkr9Um"
   },
   "source": [
    "## TODO 1 Load the dataset (2 points)\n",
    "\n",
    "0. Download the ECG5000 dataset on Canvas under the module of [Lab] Applied AI in Healthcare. Put the folder at the same path as your Jupyter code (aka, this file). In other words, th path should be *ECG5000/ECG5000_train.pickle* when loading the data in this file.\n",
    "\n",
    "After my modification, the dataset contains 5000 samples, 500 in training, 1500 in validation, and 3000 for testing. **However, the testing set is unaviliable to you!** The testing set is used to evaluate your model and grading.\n",
    "\n",
    "Your task is to train your model on the training set and evaluate your model on the validation set.\n",
    "\n",
    "1. Load the *ECG5000_train.pickle* and *ECG5000_validation.pickle* file, save the file into variable *ECGdataset*.\n",
    "\n",
    "2. Print out the first Sample, only the first sample.\n",
    "\n",
    "3. What the value of the first feature of the 10-th sample? Print it out.\n",
    "\n",
    "**Note:** The time series length of ECG5000 is 140 which is the feature, the labels is the first column of the dataset array.\n",
    "\n",
    "\n",
    "\n",
    "\n",
    "\n",
    "\n",
    "\n",
    "\n",
    "\n"
   ]
  },
  {
   "cell_type": "code",
   "execution_count": 2,
   "id": "0a9a2b9a",
   "metadata": {
    "id": "0a9a2b9a"
   },
   "outputs": [
    {
     "data": {
      "text/plain": [
       "(500, 141)"
      ]
     },
     "metadata": {},
     "output_type": "display_data"
    },
    {
     "data": {
      "text/plain": [
       "(1500, 141)"
      ]
     },
     "metadata": {},
     "output_type": "display_data"
    },
    {
     "name": "stdout",
     "output_type": "stream",
     "text": [
      "label counts as dictionary: {0.0: 292, 1.0: 177, 2.0: 10, 3.0: 19, 4.0: 2}\n",
      "\n",
      "Value of the first feature of the 10th data sample: 0.0\n"
     ]
    }
   ],
   "source": [
    "import pandas as pd\n",
    "import pickle as pc\n",
    "import numpy as np\n",
    "import warnings\n",
    "warnings.filterwarnings(\"ignore\", category=FutureWarning, module=\"sklearn\")\n",
    "\n",
    "ECGdataset_trn = pd.read_pickle('ECG5000_train.pickle')\n",
    "ECGdataset_vld = pd.read_pickle('ECG5000_validation.pickle')\n",
    "display(ECGdataset_trn.shape, ECGdataset_vld.shape)\n",
    "\n",
    "class_labels, class_counts = np.unique(ECGdataset_trn[:, 0], return_counts=True)\n",
    "label_counts = dict(zip(class_labels, class_counts))\n",
    "\n",
    "print(f'label counts as dictionary: {label_counts}\\n')\n",
    "\n",
    "ECGdataset = np.vstack((ECGdataset_trn, ECGdataset_vld))\n",
    "print(f'Value of the first feature of the 10th data sample: {ECGdataset[9][0]}')"
   ]
  },
  {
   "cell_type": "markdown",
   "id": "8ybNyRGN8WhB",
   "metadata": {
    "id": "8ybNyRGN8WhB"
   },
   "source": [
    "## TODO 2 Preprocessing (4 points)\n",
    "\n",
    "1. Normalize each sample (features) following the time-dimention, using the *sklearn.preprocessing.StandardScaler* function. Please remember to install and import the *sklearn* library.\n",
    "\n",
    "2. Note, as the training and validation sets are already splitted into two different files, you need to do the preprocessing for them independently (seperately)."
   ]
  },
  {
   "cell_type": "code",
   "execution_count": 3,
   "id": "4a5900d1-f264-494d-980f-691947102543",
   "metadata": {},
   "outputs": [],
   "source": [
    "from scipy.stats import zscore\n",
    "from sklearn.decomposition import PCA #Use for dimensionality reduction\n",
    "from imblearn.over_sampling import SMOTE, RandomOverSampler #used for balancing under represented classes\n",
    "from sklearn.preprocessing import StandardScaler\n",
    "from imblearn.pipeline import Pipeline # imblearn Pipeline is compatible for both transformers (standard scaler, pca) and samplers (SMOTE, RandomOverSampler)\n",
    "\n",
    "def data_prep(X_trn: np.ndarray, y_trn: np.ndarray, X_vld: np.ndarray, y_vld: np.ndarray=None):\n",
    "    \"\"\"\"\n",
    "    Applies StandardScaler, PCA, to both training and validation datasets while only SMOTE and RandomOverSampler is applied to the training data set\n",
    "\n",
    "    Parameters:\n",
    "    X_trn (np.ndarray): training features\n",
    "    y_trn (np.ndarray): training labels\n",
    "    X_vld (np.ndarray): validation features\n",
    "    y_vld (np.ndarray): validation labels\n",
    "\n",
    "    Returns:\n",
    "    X_trn_clean (np.ndarray): processed training dataset\n",
    "    X_vld_clean (np.ndarray): processed validation dataset\n",
    "    \"\"\"\n",
    "    \n",
    "    \n",
    "    feature_pipe = Pipeline([\n",
    "        ('standardize', StandardScaler()),\n",
    "        ('pca', PCA(n_components=0.95)),\n",
    "        ('smote', SMOTE(sampling_strategy= {2.0: 40, 3.0: 50, 4.0: 10}, random_state=42, k_neighbors=1)),\n",
    "        ('rand', RandomOverSampler(sampling_strategy= {4.0: 30}, random_state=42))\n",
    "    ])\n",
    "    \n",
    "    X_trn_clean, y_trn_clean = feature_pipe.fit_resample(X_trn, y_trn)\n",
    "\n",
    "    val_pipe = Pipeline([\n",
    "        ('standardize', StandardScaler()),\n",
    "        ('pca', PCA(n_components=0.95))\n",
    "    ])\n",
    "    X_vld_clean = val_pipe.fit(X_trn)\n",
    "    X_vld_clean = val_pipe.transform(X_vld)\n",
    "\n",
    "    return X_trn_clean, y_trn_clean, X_vld_clean\n"
   ]
  },
  {
   "cell_type": "code",
   "execution_count": 4,
   "id": "ee7abdbd-b8b9-4735-9066-9bc24e173287",
   "metadata": {},
   "outputs": [],
   "source": [
    "\n",
    "def feature_label_split(X_trn: np.ndarray, X_vld: np.ndarray):\n",
    "    \"\"\"\n",
    "    Splits features and labels for both the training and validation datasets\n",
    "\n",
    "    Parameters:\n",
    "    X_trn (np.ndarray): training data\n",
    "    X_vld (np.ndarray): validation data\n",
    "\n",
    "    Returns:\n",
    "    X_trn (np.ndarray): Processed training features\n",
    "    y_trn (np.ndarray): Corresponding training labes\n",
    "    X_vld (np.ndarray): Processed validation features\n",
    "    y_vld (np.ndarray): Corresponding validation labels\n",
    "    \"\"\"\n",
    "    \n",
    "    \"\"\"\n",
    "    #Remove outliers from the datasets\n",
    "    X_trn_rm_outliers, X_vld_rm_outliers = remove_outliers(X_trn, X_vld, threshold=5)\n",
    "    print(f'After removing outliers:\\nX_trn: {X_trn_rm_outliers.shape}, X_vld: {X_vld_rm_outliers.shape}\\n')\n",
    "    \"\"\"\n",
    "    #split feature/labels for training data\n",
    "    y_trn = X_trn[:, 0]\n",
    "    X_trn = X_trn[:, 1:]\n",
    "\n",
    "    #split feature/labels for validation data\n",
    "    y_vld = X_vld[:, 0]\n",
    "    X_vld = X_vld[:, 1:]\n",
    "    \n",
    "    print(f'Splitting features/labels...\\nTraining data: X trn shape {X_trn.shape}, y_trn shape {y_trn.shape}\\nValidation data: X vld shape {X_vld.shape}, y_vld shape {y_vld.shape}\\n')\n",
    "    return X_trn, y_trn, X_vld, y_vld"
   ]
  },
  {
   "cell_type": "code",
   "execution_count": 5,
   "id": "xeUlQkDGU8NI",
   "metadata": {
    "id": "xeUlQkDGU8NI"
   },
   "outputs": [
    {
     "name": "stdout",
     "output_type": "stream",
     "text": [
      "Splitting features/labels...\n",
      "Training data: X trn shape (500, 140), y_trn shape (500,)\n",
      "Validation data: X vld shape (1500, 140), y_vld shape (1500,)\n",
      "\n",
      "Preprocessing...\n",
      "Training data:\n",
      "X_trn_clean shape (589, 15), y_trn_clean shape (589,)\n",
      " X_vld_clean shape (1500, 15), y_vld shape (1500,)\n"
     ]
    }
   ],
   "source": [
    "#feature/label split\n",
    "X_trn, y_trn, X_vld, y_vld = feature_label_split(ECGdataset_trn, ECGdataset_vld)\n",
    "\n",
    "#Preprocessing\n",
    "X_trn_clean, y_trn_clean, X_vld_clean = data_prep(X_trn, y_trn, X_vld)\n",
    "print(f'Preprocessing...\\nTraining data:\\nX_trn_clean shape {X_trn_clean.shape}, y_trn_clean shape {y_trn_clean.shape}\\n X_vld_clean shape {X_vld_clean.shape}, y_vld shape {y_vld.shape}')\n"
   ]
  },
  {
   "cell_type": "markdown",
   "id": "TsbfP8UX8Xwz",
   "metadata": {
    "id": "TsbfP8UX8Xwz"
   },
   "source": [
    "## TODO 3 Data Splitting (Skip in this lab)\n",
    "\n",
    "1. Generally, you need to randomly split the dataset into two parts and name them as *Training_set* and *Validation_set* .\n",
    "\n",
    "However, as I already split the data for you. **You can skip this TODO**."
   ]
  },
  {
   "cell_type": "markdown",
   "id": "_xC5m2BY8Y-r",
   "metadata": {
    "id": "_xC5m2BY8Y-r"
   },
   "source": [
    "## TODO 4 Train a KNN classifier (4 points)\n",
    "\n",
    "1. Use Sklearn library, train a KNN classifier (set K equals to *5*), feed the *Training_set* to the classifier."
   ]
  },
  {
   "cell_type": "code",
   "execution_count": 6,
   "id": "LMJfhjz28ZLI",
   "metadata": {
    "id": "LMJfhjz28ZLI"
   },
   "outputs": [
    {
     "data": {
      "text/html": [
       "<style>#sk-container-id-1 {color: black;}#sk-container-id-1 pre{padding: 0;}#sk-container-id-1 div.sk-toggleable {background-color: white;}#sk-container-id-1 label.sk-toggleable__label {cursor: pointer;display: block;width: 100%;margin-bottom: 0;padding: 0.3em;box-sizing: border-box;text-align: center;}#sk-container-id-1 label.sk-toggleable__label-arrow:before {content: \"▸\";float: left;margin-right: 0.25em;color: #696969;}#sk-container-id-1 label.sk-toggleable__label-arrow:hover:before {color: black;}#sk-container-id-1 div.sk-estimator:hover label.sk-toggleable__label-arrow:before {color: black;}#sk-container-id-1 div.sk-toggleable__content {max-height: 0;max-width: 0;overflow: hidden;text-align: left;background-color: #f0f8ff;}#sk-container-id-1 div.sk-toggleable__content pre {margin: 0.2em;color: black;border-radius: 0.25em;background-color: #f0f8ff;}#sk-container-id-1 input.sk-toggleable__control:checked~div.sk-toggleable__content {max-height: 200px;max-width: 100%;overflow: auto;}#sk-container-id-1 input.sk-toggleable__control:checked~label.sk-toggleable__label-arrow:before {content: \"▾\";}#sk-container-id-1 div.sk-estimator input.sk-toggleable__control:checked~label.sk-toggleable__label {background-color: #d4ebff;}#sk-container-id-1 div.sk-label input.sk-toggleable__control:checked~label.sk-toggleable__label {background-color: #d4ebff;}#sk-container-id-1 input.sk-hidden--visually {border: 0;clip: rect(1px 1px 1px 1px);clip: rect(1px, 1px, 1px, 1px);height: 1px;margin: -1px;overflow: hidden;padding: 0;position: absolute;width: 1px;}#sk-container-id-1 div.sk-estimator {font-family: monospace;background-color: #f0f8ff;border: 1px dotted black;border-radius: 0.25em;box-sizing: border-box;margin-bottom: 0.5em;}#sk-container-id-1 div.sk-estimator:hover {background-color: #d4ebff;}#sk-container-id-1 div.sk-parallel-item::after {content: \"\";width: 100%;border-bottom: 1px solid gray;flex-grow: 1;}#sk-container-id-1 div.sk-label:hover label.sk-toggleable__label {background-color: #d4ebff;}#sk-container-id-1 div.sk-serial::before {content: \"\";position: absolute;border-left: 1px solid gray;box-sizing: border-box;top: 0;bottom: 0;left: 50%;z-index: 0;}#sk-container-id-1 div.sk-serial {display: flex;flex-direction: column;align-items: center;background-color: white;padding-right: 0.2em;padding-left: 0.2em;position: relative;}#sk-container-id-1 div.sk-item {position: relative;z-index: 1;}#sk-container-id-1 div.sk-parallel {display: flex;align-items: stretch;justify-content: center;background-color: white;position: relative;}#sk-container-id-1 div.sk-item::before, #sk-container-id-1 div.sk-parallel-item::before {content: \"\";position: absolute;border-left: 1px solid gray;box-sizing: border-box;top: 0;bottom: 0;left: 50%;z-index: -1;}#sk-container-id-1 div.sk-parallel-item {display: flex;flex-direction: column;z-index: 1;position: relative;background-color: white;}#sk-container-id-1 div.sk-parallel-item:first-child::after {align-self: flex-end;width: 50%;}#sk-container-id-1 div.sk-parallel-item:last-child::after {align-self: flex-start;width: 50%;}#sk-container-id-1 div.sk-parallel-item:only-child::after {width: 0;}#sk-container-id-1 div.sk-dashed-wrapped {border: 1px dashed gray;margin: 0 0.4em 0.5em 0.4em;box-sizing: border-box;padding-bottom: 0.4em;background-color: white;}#sk-container-id-1 div.sk-label label {font-family: monospace;font-weight: bold;display: inline-block;line-height: 1.2em;}#sk-container-id-1 div.sk-label-container {text-align: center;}#sk-container-id-1 div.sk-container {/* jupyter's `normalize.less` sets `[hidden] { display: none; }` but bootstrap.min.css set `[hidden] { display: none !important; }` so we also need the `!important` here to be able to override the default hidden behavior on the sphinx rendered scikit-learn.org. See: https://github.com/scikit-learn/scikit-learn/issues/21755 */display: inline-block !important;position: relative;}#sk-container-id-1 div.sk-text-repr-fallback {display: none;}</style><div id=\"sk-container-id-1\" class=\"sk-top-container\"><div class=\"sk-text-repr-fallback\"><pre>KNeighborsClassifier(metric=&#x27;manhattan&#x27;, p=1, weights=&#x27;distance&#x27;)</pre><b>In a Jupyter environment, please rerun this cell to show the HTML representation or trust the notebook. <br />On GitHub, the HTML representation is unable to render, please try loading this page with nbviewer.org.</b></div><div class=\"sk-container\" hidden><div class=\"sk-item\"><div class=\"sk-estimator sk-toggleable\"><input class=\"sk-toggleable__control sk-hidden--visually\" id=\"sk-estimator-id-1\" type=\"checkbox\" checked><label for=\"sk-estimator-id-1\" class=\"sk-toggleable__label sk-toggleable__label-arrow\">KNeighborsClassifier</label><div class=\"sk-toggleable__content\"><pre>KNeighborsClassifier(metric=&#x27;manhattan&#x27;, p=1, weights=&#x27;distance&#x27;)</pre></div></div></div></div></div>"
      ],
      "text/plain": [
       "KNeighborsClassifier(metric='manhattan', p=1, weights='distance')"
      ]
     },
     "execution_count": 6,
     "metadata": {},
     "output_type": "execute_result"
    }
   ],
   "source": [
    "from sklearn.neighbors import KNeighborsClassifier\n",
    "KNN = KNeighborsClassifier(n_neighbors=5, weights='distance', metric='manhattan', p=1)\n",
    "#Train KNN model\n",
    "KNN.fit(X_trn_clean, y_trn_clean)"
   ]
  },
  {
   "cell_type": "markdown",
   "id": "54xLvhSl8ZRn",
   "metadata": {
    "id": "54xLvhSl8ZRn"
   },
   "source": [
    "## TODO 5 Validate the classifier (8 points)\n",
    "\n",
    "\n",
    "1. Use the trained classifier to predict the classes of the *Validation_set* .\n",
    "\n",
    "2. Print out the Accuracy, Precision, Recall, F1 score, AUROC, confusion matrix. For the matrix (except confusion matrix),keep 4 digits (such as 0.9856).\n",
    "\n",
    "3. Create a list, named *model_performance_knn* with 5 elements, which are Accuracy, Precision, Recall, F1 score, AUROC, respectively. Create a numpy array named *cf_matrix* to store the confusion matrix.\n",
    "\n"
   ]
  },
  {
   "cell_type": "code",
   "execution_count": 7,
   "id": "b3937085-de30-481f-96fe-66a202363efe",
   "metadata": {},
   "outputs": [],
   "source": [
    "from sklearn.metrics import accuracy_score, precision_score, recall_score, f1_score, roc_auc_score, confusion_matrix\n",
    "\n",
    "def run_metrics(y, y_hat, y_scores, *, average=None, zero_division=0.0, print_scores=True):\n",
    "    #Compute accuracy\n",
    "    accuracy = round(accuracy_score(y, y_hat), 4)\n",
    "    \n",
    "    #Get class labels\n",
    "    labels = np.unique(y)\n",
    "    \n",
    "    #Compute precision score\n",
    "    precision = precision_score(y, y_hat, labels=labels, average=average, zero_division=zero_division)\n",
    "    precision = [round(i, 4) for i in precision]\n",
    "\n",
    "    #Compute recall\n",
    "    recall = recall_score(y, y_hat, labels=labels, average=average)\n",
    "    recall = [round(i, 4) for i in recall]\n",
    "    \n",
    "    #Compute F1 score\n",
    "    f1 = f1_score(y, y_hat, labels=labels, average=average, zero_division=zero_division)\n",
    "    f1 = [round(i, 4) for i in f1]\n",
    "   \n",
    "    #Compute AUROC\n",
    "    auroc = round(roc_auc_score(y, y_scores, multi_class='ovr'), 4)\n",
    "   \n",
    "    #Compute confusion matrix\n",
    "    cf_matrix = confusion_matrix(y, y_hat, labels=labels)\n",
    "\n",
    "    if print_scores:\n",
    "        print(f'Accuracy score: {accuracy}')\n",
    "        print(f'Precision score: {precision}')\n",
    "        print(f'Recall score: {recall}')\n",
    "        print(f'F1 score: {f1}')\n",
    "        print(f'AUROC: {auroc}')\n",
    "        print('\\nConfusion matrix:')\n",
    "        display(cf_matrix)\n",
    "\n",
    "    model_performance_knn = accuracy, precision, recall, f1, auroc\n",
    "    return model_performance_knn, cf_matrix"
   ]
  },
  {
   "cell_type": "code",
   "execution_count": 8,
   "id": "y0hMpWV68ZXX",
   "metadata": {
    "id": "y0hMpWV68ZXX",
    "scrolled": true
   },
   "outputs": [
    {
     "name": "stdout",
     "output_type": "stream",
     "text": [
      "Accuracy score: 0.892\n",
      "Precision score: [0.9652, 0.9153, 0.625, 0.3273, 0.3333]\n",
      "Recall score: [0.9949, 0.861, 0.3488, 0.48, 0.1818]\n",
      "F1 score: [0.9798, 0.8873, 0.4478, 0.3892, 0.2353]\n",
      "AUROC: 0.8282\n",
      "\n",
      "Confusion matrix:\n"
     ]
    },
    {
     "data": {
      "text/plain": [
       "array([[777,   1,   0,   2,   1],\n",
       "       [ 14, 508,   5,  63,   0],\n",
       "       [  7,  11,  15,   8,   2],\n",
       "       [  4,  31,   3,  36,   1],\n",
       "       [  3,   4,   1,   1,   2]], dtype=int64)"
      ]
     },
     "metadata": {},
     "output_type": "display_data"
    }
   ],
   "source": [
    "y_hat = KNN.predict(X_vld_clean)\n",
    "y_scores = KNN.predict_proba(X_vld_clean)\n",
    "model_performance_knn, cf_matrix = run_metrics(y_vld, y_hat, y_scores)\n",
    "#display(model_performance_knn)"
   ]
  },
  {
   "cell_type": "markdown",
   "id": "bhrwzFxr8ZdQ",
   "metadata": {
    "id": "bhrwzFxr8ZdQ"
   },
   "source": [
    "## TODO 6 Visulize the confusion matrix (2 points)\n",
    "\n",
    "1. Use *seaborn* library to visualize the confusion matrix using *heatmap*. The labels should contain the counts and percentage.\n",
    "\n",
    "2. FYI, you may check how to use seaborn to draw heatmap at https://medium.com/@dtuk81/confusion-matrix-visualization-fc31e3f30fea"
   ]
  },
  {
   "cell_type": "code",
   "execution_count": 12,
   "id": "c54607fd",
   "metadata": {
    "id": "c54607fd"
   },
   "outputs": [
    {
     "name": "stdout",
     "output_type": "stream",
     "text": [
      "\n",
      "--------------K-Nearest Neighbors classification report--------------------\n",
      "              precision    recall  f1-score   support\n",
      "\n",
      "           N       0.97      0.99      0.98       781\n",
      "           r       0.92      0.86      0.89       590\n",
      "           S       0.62      0.35      0.45        43\n",
      "           V       0.33      0.48      0.39        75\n",
      "           Q       0.33      0.18      0.24        11\n",
      "\n",
      "    accuracy                           0.89      1500\n",
      "   macro avg       0.63      0.57      0.59      1500\n",
      "weighted avg       0.90      0.89      0.89      1500\n",
      "\n"
     ]
    },
    {
     "data": {
      "image/png": "[encoded data removed]",
      "text/plain": [
       "<Figure size 640x480 with 2 Axes>"
      ]
     },
     "metadata": {},
     "output_type": "display_data"
    }
   ],
   "source": [
    "import seaborn as sns\n",
    "import matplotlib.pyplot as plt\n",
    "from sklearn.metrics import classification_report\n",
    "\n",
    "plt.figure(dpi=100)\n",
    "\n",
    "group_counts = [\"{0:0.0f}\".format(value) for value in cf_matrix.flatten()]\n",
    "group_percentages = [\"{0:.2%}\".format(value) for value in cf_matrix.flatten()/np.sum(cf_matrix)]\n",
    "labels = [f\"{v1}\\n{v2}\" for v1, v2, in zip(group_counts,group_percentages)]\n",
    "labels = np.asarray(labels).reshape(5,5)\n",
    "sns.heatmap(cf_matrix, annot=labels, fmt='', cmap='Blues')\n",
    "\n",
    "plt.xlabel('Predicted Labels')\n",
    "plt.ylabel('True Labels')\n",
    "target_names = ['N', 'r', 'S', 'V', 'Q']\n",
    "print('\\n--------------K-Nearest Neighbors classification report--------------------')\n",
    "print(classification_report(y_vld, y_hat, labels=class_labels, target_names=target_names))"
   ]
  },
  {
   "cell_type": "code",
   "execution_count": null,
   "id": "2abb585f-ea32-4c96-9ffc-4c7cd3d0c728",
   "metadata": {},
   "outputs": [],
   "source": []
  }
 ],
 "metadata": {
  "colab": {
   "provenance": [],
   "toc_visible": true
  },
  "kernelspec": {
   "display_name": "Python 3 (ipykernel)",
   "language": "python",
   "name": "python3"
  },
  "language_info": {
   "codemirror_mode": {
    "name": "ipython",
    "version": 3
   },
   "file_extension": ".py",
   "mimetype": "text/x-python",
   "name": "python",
   "nbconvert_exporter": "python",
   "pygments_lexer": "ipython3",
   "version": "3.8.20"
  },
  "toc": {
   "base_numbering": 1,
   "nav_menu": {},
   "number_sections": true,
   "sideBar": true,
   "skip_h1_title": false,
   "title_cell": "Table of Contents",
   "title_sidebar": "Contents",
   "toc_cell": false,
   "toc_position": {},
   "toc_section_display": true,
   "toc_window_display": false
  }
 },
 "nbformat": 4,
 "nbformat_minor": 5
}
